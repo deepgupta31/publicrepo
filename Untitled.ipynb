{
 "cells": [
  {
   "cell_type": "code",
   "execution_count": null,
   "id": "a7b2780c",
   "metadata": {},
   "outputs": [],
   "source": [
    "spark"
   ]
  },
  {
   "cell_type": "code",
   "execution_count": null,
   "id": "73d6e67e",
   "metadata": {},
   "outputs": [],
   "source": [
    "ecomDF = spark.read.option(\"header\", True).option(\"inferSchema\", True).option(\"multiline\", True).csv(\"s3://day7bucket/ecom/Ecommerce Purchases\")"
   ]
  },
  {
   "cell_type": "code",
   "execution_count": null,
   "id": "69de95ea",
   "metadata": {},
   "outputs": [],
   "source": [
    "ecomDF.printSchema()"
   ]
  },
  {
   "cell_type": "code",
   "execution_count": null,
   "id": "f5c35f53",
   "metadata": {},
   "outputs": [],
   "source": [
    "ecomDF.show(10)"
   ]
  },
  {
   "cell_type": "code",
   "execution_count": null,
   "id": "414ffa93",
   "metadata": {},
   "outputs": [],
   "source": [
    "ecomDFnew = ecomDF.withColumnRenamed(\"AM or PM\", \"AMorPM\").withColumnRenamed(\"Browser Info\", \"BrowserInfo\").\\\n",
    "withColumnRenamed(\"Credit Card\", \"CreditCard\").withColumnRenamed(\"CC Exp Date\", \"CCExpDate\")\\\n",
    ".withColumnRenamed(\"CC Security Code\", \"CCSecurityCode\").withColumnRenamed(\"CC Provider\", \"CCProvider\")\\\n",
    ".withColumnRenamed(\"IP Address\", \"IPAddress\").withColumnRenamed(\"Purchase Price\", \"PurchasePrice\")"
   ]
  },
  {
   "cell_type": "code",
   "execution_count": null,
   "id": "5468e023",
   "metadata": {},
   "outputs": [],
   "source": [
    "ecomDFnew.write.option(\"header\", True).parquet(\"s3://day7bucket/ecom/parquetEcom\")"
   ]
  },
  {
   "cell_type": "code",
   "execution_count": null,
   "id": "c74cf88b",
   "metadata": {},
   "outputs": [],
   "source": []
  },
  {
   "cell_type": "code",
   "execution_count": null,
   "id": "14968d9d",
   "metadata": {},
   "outputs": [],
   "source": []
  }
 ],
 "metadata": {
  "kernelspec": {
   "display_name": "PySpark",
   "language": "python",
   "name": "pysparkkernel"
  },
  "language_info": {
   "codemirror_mode": {
    "name": "python",
    "version": 3
   },
   "file_extension": ".py",
   "mimetype": "text/x-python",
   "name": "pyspark",
   "pygments_lexer": "python3"
  }
 },
 "nbformat": 4,
 "nbformat_minor": 5
}
